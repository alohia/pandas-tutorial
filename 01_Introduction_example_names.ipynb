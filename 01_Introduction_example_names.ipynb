{
 "cells": [
  {
   "cell_type": "markdown",
   "metadata": {},
   "source": [
    "## Example: Names in the Wild\n",
    "\n",
    "This example is drawn from Wes McKinney's excellent book on the *Pandas* library, O'Reilly's [Python for Data Analysis](http://shop.oreilly.com/product/0636920023784.do).\n",
    "\n",
    "We'll be taking a look at a freely available dataset: the database of names given to babies in the United States over the last century.\n",
    "\n",
    "First things first, we need to download the data, which can be found at http://www.ssa.gov/oact/babynames/limits.html.\n",
    "If you uncomment the following commands, it will do this automatically (note that these are linux shell commands; they will not work on Windows):"
   ]
  },
  {
   "cell_type": "code",
   "execution_count": 1,
   "metadata": {
    "collapsed": true
   },
   "outputs": [],
   "source": [
    "import pandas as pd\n",
    "import numpy as np\n",
    "import seaborn; seaborn.set()\n",
    "%matplotlib inline"
   ]
  },
  {
   "cell_type": "code",
   "execution_count": 7,
   "metadata": {
    "collapsed": false
   },
   "outputs": [
    {
     "name": "stdout",
     "output_type": "stream",
     "text": [
      "/home/lohia/projects/pandas-tutorial\r\n"
     ]
    }
   ],
   "source": [
    "#!curl -O https://www.ssa.gov/oact/babynames/names.zip"
   ]
  },
  {
   "cell_type": "code",
   "execution_count": 13,
   "metadata": {
    "collapsed": false
   },
   "outputs": [
    {
     "name": "stdout",
     "output_type": "stream",
     "text": [
      "Archive:  names.zip\n",
      "   creating: names/\n",
      "  inflating: names/.DS_Store         \n",
      "   creating: __MACOSX/\n",
      "   creating: __MACOSX/names/\n",
      "  inflating: __MACOSX/names/._.DS_Store  \n",
      "  inflating: names/NationalReadMe.pdf  \n",
      "  inflating: names/yob1880.txt       \n",
      "  inflating: names/yob1881.txt       \n",
      "  inflating: names/yob1882.txt       \n",
      "  inflating: names/yob1883.txt       \n",
      "  inflating: names/yob1884.txt       \n",
      "  inflating: names/yob1885.txt       \n",
      "  inflating: names/yob1886.txt       \n",
      "  inflating: names/yob1887.txt       \n",
      "  inflating: names/yob1888.txt       \n",
      "  inflating: names/yob1889.txt       \n",
      "  inflating: names/yob1890.txt       \n",
      "  inflating: names/yob1891.txt       \n",
      "  inflating: names/yob1892.txt       \n",
      "  inflating: names/yob1893.txt       \n",
      "  inflating: names/yob1894.txt       \n",
      "  inflating: names/yob1895.txt       \n",
      "  inflating: names/yob1896.txt       \n",
      "  inflating: names/yob1897.txt       \n",
      "  inflating: names/yob1898.txt       \n",
      "  inflating: names/yob1899.txt       \n",
      "  inflating: names/yob1900.txt       \n",
      "  inflating: names/yob1901.txt       \n",
      "  inflating: names/yob1902.txt       \n",
      "  inflating: names/yob1903.txt       \n",
      "  inflating: names/yob1904.txt       \n",
      "  inflating: names/yob1905.txt       \n",
      "  inflating: names/yob1906.txt       \n",
      "  inflating: names/yob1907.txt       \n",
      "  inflating: names/yob1908.txt       \n",
      "  inflating: names/yob1909.txt       \n",
      "  inflating: names/yob1910.txt       \n",
      "  inflating: names/yob1911.txt       \n",
      "  inflating: names/yob1912.txt       \n",
      "  inflating: names/yob1913.txt       \n",
      "  inflating: names/yob1914.txt       \n",
      "  inflating: names/yob1915.txt       \n",
      "  inflating: names/yob1916.txt       \n",
      "  inflating: names/yob1917.txt       \n",
      "  inflating: names/yob1918.txt       \n",
      "  inflating: names/yob1919.txt       \n",
      "  inflating: names/yob1920.txt       \n",
      "  inflating: names/yob1921.txt       \n",
      "  inflating: names/yob1922.txt       \n",
      "  inflating: names/yob1923.txt       \n",
      "  inflating: names/yob1924.txt       \n",
      "  inflating: names/yob1925.txt       \n",
      "  inflating: names/yob1926.txt       \n",
      "  inflating: names/yob1927.txt       \n",
      "  inflating: names/yob1928.txt       \n",
      "  inflating: names/yob1929.txt       \n",
      "  inflating: names/yob1930.txt       \n",
      "  inflating: names/yob1931.txt       \n",
      "  inflating: names/yob1932.txt       \n",
      "  inflating: names/yob1933.txt       \n",
      "  inflating: names/yob1934.txt       \n",
      "  inflating: names/yob1935.txt       \n",
      "  inflating: names/yob1936.txt       \n",
      "  inflating: names/yob1937.txt       \n",
      "  inflating: names/yob1938.txt       \n",
      "  inflating: names/yob1939.txt       \n",
      "  inflating: names/yob1940.txt       \n",
      "  inflating: names/yob1941.txt       \n",
      "  inflating: names/yob1942.txt       \n",
      "  inflating: names/yob1943.txt       \n",
      "  inflating: names/yob1944.txt       \n",
      "  inflating: names/yob1945.txt       \n",
      "  inflating: names/yob1946.txt       \n",
      "  inflating: names/yob1947.txt       \n",
      "  inflating: names/yob1948.txt       \n",
      "  inflating: names/yob1949.txt       \n",
      "  inflating: names/yob1950.txt       \n",
      "  inflating: names/yob1951.txt       \n",
      "  inflating: names/yob1952.txt       \n",
      "  inflating: names/yob1953.txt       \n",
      "  inflating: names/yob1954.txt       \n",
      "  inflating: names/yob1955.txt       \n",
      "  inflating: names/yob1956.txt       \n",
      "  inflating: names/yob1957.txt       \n",
      "  inflating: names/yob1958.txt       \n",
      "  inflating: names/yob1959.txt       \n",
      "  inflating: names/yob1960.txt       \n",
      "  inflating: names/yob1961.txt       \n",
      "  inflating: names/yob1962.txt       \n",
      "  inflating: names/yob1963.txt       \n",
      "  inflating: names/yob1964.txt       \n",
      "  inflating: names/yob1965.txt       \n",
      "  inflating: names/yob1966.txt       \n",
      "  inflating: names/yob1967.txt       \n",
      "  inflating: names/yob1968.txt       \n",
      "  inflating: names/yob1969.txt       \n",
      "  inflating: names/yob1970.txt       \n",
      "  inflating: names/yob1971.txt       \n",
      "  inflating: names/yob1972.txt       \n",
      "  inflating: names/yob1973.txt       \n",
      "  inflating: names/yob1974.txt       \n",
      "  inflating: names/yob1975.txt       \n",
      "  inflating: names/yob1976.txt       \n",
      "  inflating: names/yob1977.txt       \n",
      "  inflating: names/yob1978.txt       \n",
      "  inflating: names/yob1979.txt       \n",
      "  inflating: names/yob1980.txt       \n",
      "  inflating: names/yob1981.txt       \n",
      "  inflating: names/yob1982.txt       \n",
      "  inflating: names/yob1983.txt       \n",
      "  inflating: names/yob1984.txt       \n",
      "  inflating: names/yob1985.txt       \n",
      "  inflating: names/yob1986.txt       \n",
      "  inflating: names/yob1987.txt       \n",
      "  inflating: names/yob1988.txt       \n",
      "  inflating: names/yob1989.txt       \n",
      "  inflating: names/yob1990.txt       \n",
      "  inflating: names/yob1991.txt       \n",
      "  inflating: names/yob1992.txt       \n",
      "  inflating: names/yob1993.txt       \n",
      "  inflating: names/yob1994.txt       \n",
      "  inflating: names/yob1995.txt       \n",
      "  inflating: names/yob1996.txt       \n",
      "  inflating: names/yob1997.txt       \n",
      "  inflating: names/yob1998.txt       \n",
      "  inflating: names/yob1999.txt       \n",
      "  inflating: names/yob2000.txt       \n",
      "  inflating: names/yob2001.txt       \n",
      "  inflating: names/yob2002.txt       \n",
      "  inflating: names/yob2003.txt       \n",
      "  inflating: names/yob2004.txt       \n",
      "  inflating: names/yob2005.txt       \n",
      "  inflating: names/yob2006.txt       \n",
      "  inflating: names/yob2007.txt       \n",
      "  inflating: names/yob2008.txt       \n",
      "  inflating: names/yob2009.txt       \n",
      "  inflating: names/yob2010.txt       \n",
      "  inflating: names/yob2011.txt       \n",
      "  inflating: names/yob2012.txt       \n",
      "  inflating: names/yob2013.txt       \n",
      "  inflating: names/yob2014.txt       \n",
      "  inflating: names/yob2015.txt       \n"
     ]
    }
   ],
   "source": [
    "#!mkdir -p data/names\n",
    "#!mv names.zip data/\n",
    "!cd data/names/ && unzip names.zip"
   ]
  },
  {
   "cell_type": "markdown",
   "metadata": {},
   "source": [
    "Now we should have a ``data/names`` directory which contains a number of text files, one for each year of data:"
   ]
  },
  {
   "cell_type": "code",
   "execution_count": 15,
   "metadata": {
    "collapsed": false
   },
   "outputs": [
    {
     "name": "stdout",
     "output_type": "stream",
     "text": [
      "NationalReadMe.pdf  yob1907.txt  yob1935.txt  yob1963.txt  yob1991.txt\r\n",
      "yob1880.txt\t    yob1908.txt  yob1936.txt  yob1964.txt  yob1992.txt\r\n",
      "yob1881.txt\t    yob1909.txt  yob1937.txt  yob1965.txt  yob1993.txt\r\n",
      "yob1882.txt\t    yob1910.txt  yob1938.txt  yob1966.txt  yob1994.txt\r\n",
      "yob1883.txt\t    yob1911.txt  yob1939.txt  yob1967.txt  yob1995.txt\r\n",
      "yob1884.txt\t    yob1912.txt  yob1940.txt  yob1968.txt  yob1996.txt\r\n",
      "yob1885.txt\t    yob1913.txt  yob1941.txt  yob1969.txt  yob1997.txt\r\n",
      "yob1886.txt\t    yob1914.txt  yob1942.txt  yob1970.txt  yob1998.txt\r\n",
      "yob1887.txt\t    yob1915.txt  yob1943.txt  yob1971.txt  yob1999.txt\r\n",
      "yob1888.txt\t    yob1916.txt  yob1944.txt  yob1972.txt  yob2000.txt\r\n",
      "yob1889.txt\t    yob1917.txt  yob1945.txt  yob1973.txt  yob2001.txt\r\n",
      "yob1890.txt\t    yob1918.txt  yob1946.txt  yob1974.txt  yob2002.txt\r\n",
      "yob1891.txt\t    yob1919.txt  yob1947.txt  yob1975.txt  yob2003.txt\r\n",
      "yob1892.txt\t    yob1920.txt  yob1948.txt  yob1976.txt  yob2004.txt\r\n",
      "yob1893.txt\t    yob1921.txt  yob1949.txt  yob1977.txt  yob2005.txt\r\n",
      "yob1894.txt\t    yob1922.txt  yob1950.txt  yob1978.txt  yob2006.txt\r\n",
      "yob1895.txt\t    yob1923.txt  yob1951.txt  yob1979.txt  yob2007.txt\r\n",
      "yob1896.txt\t    yob1924.txt  yob1952.txt  yob1980.txt  yob2008.txt\r\n",
      "yob1897.txt\t    yob1925.txt  yob1953.txt  yob1981.txt  yob2009.txt\r\n",
      "yob1898.txt\t    yob1926.txt  yob1954.txt  yob1982.txt  yob2010.txt\r\n",
      "yob1899.txt\t    yob1927.txt  yob1955.txt  yob1983.txt  yob2011.txt\r\n",
      "yob1900.txt\t    yob1928.txt  yob1956.txt  yob1984.txt  yob2012.txt\r\n",
      "yob1901.txt\t    yob1929.txt  yob1957.txt  yob1985.txt  yob2013.txt\r\n",
      "yob1902.txt\t    yob1930.txt  yob1958.txt  yob1986.txt  yob2014.txt\r\n",
      "yob1903.txt\t    yob1931.txt  yob1959.txt  yob1987.txt  yob2015.txt\r\n",
      "yob1904.txt\t    yob1932.txt  yob1960.txt  yob1988.txt\r\n",
      "yob1905.txt\t    yob1933.txt  yob1961.txt  yob1989.txt\r\n",
      "yob1906.txt\t    yob1934.txt  yob1962.txt  yob1990.txt\r\n"
     ]
    }
   ],
   "source": [
    "!ls data/names/"
   ]
  },
  {
   "cell_type": "markdown",
   "metadata": {},
   "source": [
    "Let's take a quick look at one of these files:"
   ]
  },
  {
   "cell_type": "code",
   "execution_count": 16,
   "metadata": {
    "collapsed": false
   },
   "outputs": [
    {
     "name": "stdout",
     "output_type": "stream",
     "text": [
      "Mary,F,7065\r",
      "\r\n",
      "Anna,F,2604\r",
      "\r\n",
      "Emma,F,2003\r",
      "\r\n",
      "Elizabeth,F,1939\r",
      "\r\n",
      "Minnie,F,1746\r",
      "\r\n",
      "Margaret,F,1578\r",
      "\r\n",
      "Ida,F,1472\r",
      "\r\n",
      "Alice,F,1414\r",
      "\r\n",
      "Bertha,F,1320\r",
      "\r\n",
      "Sarah,F,1288\r",
      "\r\n"
     ]
    }
   ],
   "source": [
    "!head data/names/yob1880.txt"
   ]
  },
  {
   "cell_type": "markdown",
   "metadata": {},
   "source": [
    "Each file is just a comma-separated list of names, genders, and counts of babies with that name in each year.\n",
    "\n",
    "We can load these files using ``pd.read_csv``, which is specifically designed for this:"
   ]
  },
  {
   "cell_type": "code",
   "execution_count": 17,
   "metadata": {
    "collapsed": false
   },
   "outputs": [
    {
     "data": {
      "text/html": [
       "<div>\n",
       "<table border=\"1\" class=\"dataframe\">\n",
       "  <thead>\n",
       "    <tr style=\"text-align: right;\">\n",
       "      <th></th>\n",
       "      <th>Mary</th>\n",
       "      <th>F</th>\n",
       "      <th>7065</th>\n",
       "    </tr>\n",
       "  </thead>\n",
       "  <tbody>\n",
       "    <tr>\n",
       "      <th>0</th>\n",
       "      <td>Anna</td>\n",
       "      <td>F</td>\n",
       "      <td>2604</td>\n",
       "    </tr>\n",
       "    <tr>\n",
       "      <th>1</th>\n",
       "      <td>Emma</td>\n",
       "      <td>F</td>\n",
       "      <td>2003</td>\n",
       "    </tr>\n",
       "    <tr>\n",
       "      <th>2</th>\n",
       "      <td>Elizabeth</td>\n",
       "      <td>F</td>\n",
       "      <td>1939</td>\n",
       "    </tr>\n",
       "    <tr>\n",
       "      <th>3</th>\n",
       "      <td>Minnie</td>\n",
       "      <td>F</td>\n",
       "      <td>1746</td>\n",
       "    </tr>\n",
       "    <tr>\n",
       "      <th>4</th>\n",
       "      <td>Margaret</td>\n",
       "      <td>F</td>\n",
       "      <td>1578</td>\n",
       "    </tr>\n",
       "  </tbody>\n",
       "</table>\n",
       "</div>"
      ],
      "text/plain": [
       "        Mary  F  7065\n",
       "0       Anna  F  2604\n",
       "1       Emma  F  2003\n",
       "2  Elizabeth  F  1939\n",
       "3     Minnie  F  1746\n",
       "4   Margaret  F  1578"
      ]
     },
     "execution_count": 17,
     "metadata": {},
     "output_type": "execute_result"
    }
   ],
   "source": [
    "names1880 = pd.read_csv('data/names/yob1880.txt')\n",
    "names1880.head()"
   ]
  },
  {
   "cell_type": "markdown",
   "metadata": {},
   "source": [
    "Oops! Something went wrong. Our algorithm tried to be smart, and use the first line as index labels.\n",
    "Let's fix this by specifying the index names manually:"
   ]
  },
  {
   "cell_type": "code",
   "execution_count": 18,
   "metadata": {
    "collapsed": false
   },
   "outputs": [
    {
     "data": {
      "text/html": [
       "<div>\n",
       "<table border=\"1\" class=\"dataframe\">\n",
       "  <thead>\n",
       "    <tr style=\"text-align: right;\">\n",
       "      <th></th>\n",
       "      <th>name</th>\n",
       "      <th>gender</th>\n",
       "      <th>births</th>\n",
       "    </tr>\n",
       "  </thead>\n",
       "  <tbody>\n",
       "    <tr>\n",
       "      <th>0</th>\n",
       "      <td>Mary</td>\n",
       "      <td>F</td>\n",
       "      <td>7065</td>\n",
       "    </tr>\n",
       "    <tr>\n",
       "      <th>1</th>\n",
       "      <td>Anna</td>\n",
       "      <td>F</td>\n",
       "      <td>2604</td>\n",
       "    </tr>\n",
       "    <tr>\n",
       "      <th>2</th>\n",
       "      <td>Emma</td>\n",
       "      <td>F</td>\n",
       "      <td>2003</td>\n",
       "    </tr>\n",
       "    <tr>\n",
       "      <th>3</th>\n",
       "      <td>Elizabeth</td>\n",
       "      <td>F</td>\n",
       "      <td>1939</td>\n",
       "    </tr>\n",
       "    <tr>\n",
       "      <th>4</th>\n",
       "      <td>Minnie</td>\n",
       "      <td>F</td>\n",
       "      <td>1746</td>\n",
       "    </tr>\n",
       "  </tbody>\n",
       "</table>\n",
       "</div>"
      ],
      "text/plain": [
       "        name gender  births\n",
       "0       Mary      F    7065\n",
       "1       Anna      F    2604\n",
       "2       Emma      F    2003\n",
       "3  Elizabeth      F    1939\n",
       "4     Minnie      F    1746"
      ]
     },
     "execution_count": 18,
     "metadata": {},
     "output_type": "execute_result"
    }
   ],
   "source": [
    "names1880 = pd.read_csv('data/names/yob1880.txt',\n",
    "                        names=['name', 'gender', 'births'])\n",
    "names1880.head()"
   ]
  },
  {
   "cell_type": "markdown",
   "metadata": {},
   "source": [
    "That looks better. Now we can start playing with the data a bit."
   ]
  },
  {
   "cell_type": "markdown",
   "metadata": {},
   "source": [
    "### GroupBy: aggregates on values\n",
    "\n",
    "First let's think about how we might count the total number of females and males born in the US in 1880.\n",
    "\n",
    "If you're used to NumPy, you might be tempted to use masking like this:\n",
    "\n",
    "First, we can get a mask over all females & males, and then use it to select a subset of the data:"
   ]
  },
  {
   "cell_type": "code",
   "execution_count": 19,
   "metadata": {
    "collapsed": false
   },
   "outputs": [],
   "source": [
    "males = names1880[names1880.gender == 'M']\n",
    "females = names1880[names1880.gender == 'F']"
   ]
  },
  {
   "cell_type": "markdown",
   "metadata": {},
   "source": [
    "Now we can take the sum of the births for each of these:"
   ]
  },
  {
   "cell_type": "code",
   "execution_count": 20,
   "metadata": {
    "collapsed": false
   },
   "outputs": [
    {
     "data": {
      "text/plain": [
       "(110490, 90992)"
      ]
     },
     "execution_count": 20,
     "metadata": {},
     "output_type": "execute_result"
    }
   ],
   "source": [
    "males.births.sum(), females.births.sum()"
   ]
  },
  {
   "cell_type": "markdown",
   "metadata": {},
   "source": [
    "But there's an easier way to do this, using one of Pandas' very powerful features: ``groupby``:"
   ]
  },
  {
   "cell_type": "code",
   "execution_count": 21,
   "metadata": {
    "collapsed": false
   },
   "outputs": [
    {
     "data": {
      "text/plain": [
       "<pandas.core.groupby.DataFrameGroupBy object at 0x7fcb329bc5f8>"
      ]
     },
     "execution_count": 21,
     "metadata": {},
     "output_type": "execute_result"
    }
   ],
   "source": [
    "grouped = names1880.groupby('gender')\n",
    "grouped"
   ]
  },
  {
   "cell_type": "markdown",
   "metadata": {},
   "source": [
    "This grouped object is now an abstract representation of the data, where the data is split on the given column.\n",
    "In order to actually do something with this data, we need to specify an **aggregation** operation to do across the data.\n",
    "In this case, what we want is the sum:"
   ]
  },
  {
   "cell_type": "code",
   "execution_count": 22,
   "metadata": {
    "collapsed": false
   },
   "outputs": [
    {
     "data": {
      "text/html": [
       "<div>\n",
       "<table border=\"1\" class=\"dataframe\">\n",
       "  <thead>\n",
       "    <tr style=\"text-align: right;\">\n",
       "      <th></th>\n",
       "      <th>births</th>\n",
       "    </tr>\n",
       "    <tr>\n",
       "      <th>gender</th>\n",
       "      <th></th>\n",
       "    </tr>\n",
       "  </thead>\n",
       "  <tbody>\n",
       "    <tr>\n",
       "      <th>F</th>\n",
       "      <td>90992</td>\n",
       "    </tr>\n",
       "    <tr>\n",
       "      <th>M</th>\n",
       "      <td>110490</td>\n",
       "    </tr>\n",
       "  </tbody>\n",
       "</table>\n",
       "</div>"
      ],
      "text/plain": [
       "        births\n",
       "gender        \n",
       "F        90992\n",
       "M       110490"
      ]
     },
     "execution_count": 22,
     "metadata": {},
     "output_type": "execute_result"
    }
   ],
   "source": [
    "grouped.sum()"
   ]
  },
  {
   "cell_type": "markdown",
   "metadata": {},
   "source": [
    "We can do other aggregations as well:"
   ]
  },
  {
   "cell_type": "code",
   "execution_count": 23,
   "metadata": {
    "collapsed": false
   },
   "outputs": [
    {
     "data": {
      "text/plain": [
       "gender\n",
       "F     942\n",
       "M    1058\n",
       "dtype: int64"
      ]
     },
     "execution_count": 23,
     "metadata": {},
     "output_type": "execute_result"
    }
   ],
   "source": [
    "grouped.size()"
   ]
  },
  {
   "cell_type": "code",
   "execution_count": 24,
   "metadata": {
    "collapsed": false
   },
   "outputs": [
    {
     "data": {
      "text/html": [
       "<div>\n",
       "<table border=\"1\" class=\"dataframe\">\n",
       "  <thead>\n",
       "    <tr style=\"text-align: right;\">\n",
       "      <th></th>\n",
       "      <th>births</th>\n",
       "    </tr>\n",
       "    <tr>\n",
       "      <th>gender</th>\n",
       "      <th></th>\n",
       "    </tr>\n",
       "  </thead>\n",
       "  <tbody>\n",
       "    <tr>\n",
       "      <th>F</th>\n",
       "      <td>96.594480</td>\n",
       "    </tr>\n",
       "    <tr>\n",
       "      <th>M</th>\n",
       "      <td>104.432892</td>\n",
       "    </tr>\n",
       "  </tbody>\n",
       "</table>\n",
       "</div>"
      ],
      "text/plain": [
       "            births\n",
       "gender            \n",
       "F        96.594480\n",
       "M       104.432892"
      ]
     },
     "execution_count": 24,
     "metadata": {},
     "output_type": "execute_result"
    }
   ],
   "source": [
    "grouped.mean()"
   ]
  },
  {
   "cell_type": "markdown",
   "metadata": {},
   "source": [
    "Or, if we wish, we can get a description of the grouping:"
   ]
  },
  {
   "cell_type": "code",
   "execution_count": 25,
   "metadata": {
    "collapsed": false
   },
   "outputs": [
    {
     "data": {
      "text/html": [
       "<div>\n",
       "<table border=\"1\" class=\"dataframe\">\n",
       "  <thead>\n",
       "    <tr style=\"text-align: right;\">\n",
       "      <th></th>\n",
       "      <th></th>\n",
       "      <th>births</th>\n",
       "    </tr>\n",
       "    <tr>\n",
       "      <th>gender</th>\n",
       "      <th></th>\n",
       "      <th></th>\n",
       "    </tr>\n",
       "  </thead>\n",
       "  <tbody>\n",
       "    <tr>\n",
       "      <th rowspan=\"8\" valign=\"top\">F</th>\n",
       "      <th>count</th>\n",
       "      <td>942.000000</td>\n",
       "    </tr>\n",
       "    <tr>\n",
       "      <th>mean</th>\n",
       "      <td>96.594480</td>\n",
       "    </tr>\n",
       "    <tr>\n",
       "      <th>std</th>\n",
       "      <td>328.151887</td>\n",
       "    </tr>\n",
       "    <tr>\n",
       "      <th>min</th>\n",
       "      <td>5.000000</td>\n",
       "    </tr>\n",
       "    <tr>\n",
       "      <th>25%</th>\n",
       "      <td>7.000000</td>\n",
       "    </tr>\n",
       "    <tr>\n",
       "      <th>50%</th>\n",
       "      <td>13.000000</td>\n",
       "    </tr>\n",
       "    <tr>\n",
       "      <th>75%</th>\n",
       "      <td>43.750000</td>\n",
       "    </tr>\n",
       "    <tr>\n",
       "      <th>max</th>\n",
       "      <td>7065.000000</td>\n",
       "    </tr>\n",
       "    <tr>\n",
       "      <th rowspan=\"8\" valign=\"top\">M</th>\n",
       "      <th>count</th>\n",
       "      <td>1058.000000</td>\n",
       "    </tr>\n",
       "    <tr>\n",
       "      <th>mean</th>\n",
       "      <td>104.432892</td>\n",
       "    </tr>\n",
       "    <tr>\n",
       "      <th>std</th>\n",
       "      <td>561.216596</td>\n",
       "    </tr>\n",
       "    <tr>\n",
       "      <th>min</th>\n",
       "      <td>5.000000</td>\n",
       "    </tr>\n",
       "    <tr>\n",
       "      <th>25%</th>\n",
       "      <td>7.000000</td>\n",
       "    </tr>\n",
       "    <tr>\n",
       "      <th>50%</th>\n",
       "      <td>12.000000</td>\n",
       "    </tr>\n",
       "    <tr>\n",
       "      <th>75%</th>\n",
       "      <td>41.000000</td>\n",
       "    </tr>\n",
       "    <tr>\n",
       "      <th>max</th>\n",
       "      <td>9655.000000</td>\n",
       "    </tr>\n",
       "  </tbody>\n",
       "</table>\n",
       "</div>"
      ],
      "text/plain": [
       "                   births\n",
       "gender                   \n",
       "F      count   942.000000\n",
       "       mean     96.594480\n",
       "       std     328.151887\n",
       "       min       5.000000\n",
       "       25%       7.000000\n",
       "       50%      13.000000\n",
       "       75%      43.750000\n",
       "       max    7065.000000\n",
       "M      count  1058.000000\n",
       "       mean    104.432892\n",
       "       std     561.216596\n",
       "       min       5.000000\n",
       "       25%       7.000000\n",
       "       50%      12.000000\n",
       "       75%      41.000000\n",
       "       max    9655.000000"
      ]
     },
     "execution_count": 25,
     "metadata": {},
     "output_type": "execute_result"
    }
   ],
   "source": [
    "grouped.describe()"
   ]
  },
  {
   "cell_type": "markdown",
   "metadata": {},
   "source": [
    "### Concatenating multiple data sources\n",
    "\n",
    "But here we've just been looking at a single year. Let's try to put together all the data in all the years.\n",
    "To do this, we'll have to use pandas ``concat`` function to concatenate all the data together.\n",
    "First we'll create a function which loads the data as we did the above data:"
   ]
  },
  {
   "cell_type": "code",
   "execution_count": 26,
   "metadata": {
    "collapsed": false
   },
   "outputs": [],
   "source": [
    "def load_year(year):\n",
    "    data = pd.read_csv('data/names/yob{0}.txt'.format(year),\n",
    "                       names=['name', 'gender', 'births'])\n",
    "    data['year'] = year\n",
    "    return data"
   ]
  },
  {
   "cell_type": "markdown",
   "metadata": {},
   "source": [
    "Now let's load all the data into a list, and call ``pd.concat`` on that list:"
   ]
  },
  {
   "cell_type": "code",
   "execution_count": 27,
   "metadata": {
    "collapsed": false
   },
   "outputs": [
    {
     "data": {
      "text/html": [
       "<div>\n",
       "<table border=\"1\" class=\"dataframe\">\n",
       "  <thead>\n",
       "    <tr style=\"text-align: right;\">\n",
       "      <th></th>\n",
       "      <th>name</th>\n",
       "      <th>gender</th>\n",
       "      <th>births</th>\n",
       "      <th>year</th>\n",
       "    </tr>\n",
       "  </thead>\n",
       "  <tbody>\n",
       "    <tr>\n",
       "      <th>0</th>\n",
       "      <td>Mary</td>\n",
       "      <td>F</td>\n",
       "      <td>7065</td>\n",
       "      <td>1880</td>\n",
       "    </tr>\n",
       "    <tr>\n",
       "      <th>1</th>\n",
       "      <td>Anna</td>\n",
       "      <td>F</td>\n",
       "      <td>2604</td>\n",
       "      <td>1880</td>\n",
       "    </tr>\n",
       "    <tr>\n",
       "      <th>2</th>\n",
       "      <td>Emma</td>\n",
       "      <td>F</td>\n",
       "      <td>2003</td>\n",
       "      <td>1880</td>\n",
       "    </tr>\n",
       "    <tr>\n",
       "      <th>3</th>\n",
       "      <td>Elizabeth</td>\n",
       "      <td>F</td>\n",
       "      <td>1939</td>\n",
       "      <td>1880</td>\n",
       "    </tr>\n",
       "    <tr>\n",
       "      <th>4</th>\n",
       "      <td>Minnie</td>\n",
       "      <td>F</td>\n",
       "      <td>1746</td>\n",
       "      <td>1880</td>\n",
       "    </tr>\n",
       "  </tbody>\n",
       "</table>\n",
       "</div>"
      ],
      "text/plain": [
       "        name gender  births  year\n",
       "0       Mary      F    7065  1880\n",
       "1       Anna      F    2604  1880\n",
       "2       Emma      F    2003  1880\n",
       "3  Elizabeth      F    1939  1880\n",
       "4     Minnie      F    1746  1880"
      ]
     },
     "execution_count": 27,
     "metadata": {},
     "output_type": "execute_result"
    }
   ],
   "source": [
    "names = pd.concat([load_year(year) for year in range(1880, 2014)])\n",
    "names.head()"
   ]
  },
  {
   "cell_type": "markdown",
   "metadata": {},
   "source": [
    "It looks like we've done it!\n",
    "\n",
    "Let's start with something easy: we'll use ``groupby`` again to see the total number of births per year:"
   ]
  },
  {
   "cell_type": "code",
   "execution_count": 28,
   "metadata": {
    "collapsed": false
   },
   "outputs": [
    {
     "data": {
      "text/plain": [
       "year\n",
       "1880    201482\n",
       "1881    192696\n",
       "1882    221534\n",
       "1883    216945\n",
       "1884    243463\n",
       "Name: births, dtype: int64"
      ]
     },
     "execution_count": 28,
     "metadata": {},
     "output_type": "execute_result"
    }
   ],
   "source": [
    "births = names.groupby('year').births.sum()\n",
    "births.head()"
   ]
  },
  {
   "cell_type": "markdown",
   "metadata": {},
   "source": [
    "We can use the ``plot()`` method to see a quick plot of these (note that because we used the ``%matplotlib inline`` magic at the start of the notebook, the resulting plot will be shown inline within the notebook)."
   ]
  },
  {
   "cell_type": "code",
   "execution_count": 29,
   "metadata": {
    "collapsed": false
   },
   "outputs": [
    {
     "data": {
      "image/png": "[encoded data removed]",
      "text/plain": [
       "<matplotlib.figure.Figure at 0x7fcb329280f0>"
      ]
     },
     "metadata": {},
     "output_type": "display_data"
    }
   ],
   "source": [
    "births.plot();"
   ]
  },
  {
   "cell_type": "markdown",
   "metadata": {},
   "source": [
    "The so-called \"baby boom\" generation after the second world war is abundantly clear!"
   ]
  },
  {
   "cell_type": "markdown",
   "metadata": {},
   "source": [
    "We can also use other aggregates: let's see *how many* names are used each year:"
   ]
  },
  {
   "cell_type": "code",
   "execution_count": null,
   "metadata": {
    "collapsed": false
   },
   "outputs": [],
   "source": [
    "names.groupby('year').births.count().plot();"
   ]
  },
  {
   "cell_type": "markdown",
   "metadata": {},
   "source": [
    "Apparently there's been a huge increase of the diversity of names with time!"
   ]
  },
  {
   "cell_type": "markdown",
   "metadata": {},
   "source": [
    "``groupby`` can also be used to add columns to the data: think of it as a *view* of the data that you're modifying. Let's add a column giving the frequency of each name within each year & gender:"
   ]
  },
  {
   "cell_type": "code",
   "execution_count": null,
   "metadata": {
    "collapsed": false
   },
   "outputs": [],
   "source": [
    "def add_frequency(group):\n",
    "    group['birth_freq'] = group.births / group.births.sum()\n",
    "    return group\n",
    "\n",
    "names = names.groupby(['year', 'gender']).apply(add_frequency)\n",
    "names.head()"
   ]
  },
  {
   "cell_type": "markdown",
   "metadata": {},
   "source": [
    "Notice that the ``apply()`` function iterates over each group, and calls a function which modifies the group.\n",
    "This result is then re-constructed into a container which looks ike the original dataframe."
   ]
  },
  {
   "cell_type": "markdown",
   "metadata": {},
   "source": [
    "### Pivot Tables\n",
    "\n",
    "Next we'll discuss Pivot Tables, which are an even more powerful way of (re)organizing your data.\n",
    "\n",
    "Let's say that we want to plot the men and women separately.\n",
    "We could do this by using masking, as follows:"
   ]
  },
  {
   "cell_type": "code",
   "execution_count": null,
   "metadata": {
    "collapsed": false
   },
   "outputs": [],
   "source": [
    "men = names[names.gender == 'M']\n",
    "women = names[names.gender == 'W']"
   ]
  },
  {
   "cell_type": "markdown",
   "metadata": {},
   "source": [
    "And then we could proceed as above, using ``groupby`` to group on the year.\n",
    "But we would end up with two different views of the data. A better way to do this is to use a ``pivot_table``, which is essentially a groupby in multiple dimensions at once:"
   ]
  },
  {
   "cell_type": "code",
   "execution_count": null,
   "metadata": {
    "collapsed": false
   },
   "outputs": [],
   "source": [
    "births = names.pivot_table('births',\n",
    "                           index='year', columns='gender',\n",
    "                           aggfunc=sum)\n",
    "births.head()"
   ]
  },
  {
   "cell_type": "markdown",
   "metadata": {},
   "source": [
    "Note that this has grouped the index by the value of ``year``, and grouped the columns by the value of ``gender``.\n",
    "Let's plot the results now:"
   ]
  },
  {
   "cell_type": "code",
   "execution_count": null,
   "metadata": {
    "collapsed": false
   },
   "outputs": [],
   "source": [
    "births.plot(title='Total Births');"
   ]
  },
  {
   "cell_type": "markdown",
   "metadata": {},
   "source": [
    "### Name Evolution Over Time\n",
    "\n",
    "Some names have shifted from being girls names to being boys names. Let's take a look at some of these:"
   ]
  },
  {
   "cell_type": "code",
   "execution_count": null,
   "metadata": {
    "collapsed": false
   },
   "outputs": [],
   "source": [
    "names_to_check = ['Allison', 'Alison']\n",
    "\n",
    "# filter on just the names we're interested in\n",
    "births = names[names.name.isin(names_to_check)]\n",
    "\n",
    "# pivot table to get year vs. gender\n",
    "births = births.pivot_table('births', index='year', columns='gender')\n",
    "\n",
    "# fill all NaNs with zeros\n",
    "births = births.fillna(0)\n",
    "\n",
    "# normalize along columns\n",
    "births = births.div(births.sum(1), axis=0)\n",
    "\n",
    "births.plot(title='Fraction of babies named Allison');"
   ]
  },
  {
   "cell_type": "markdown",
   "metadata": {},
   "source": [
    "We can see that prior to about 1905, all babies named Allison were male. Over the 20th century, this reversed, until the end of the century nearly all Allisons were female!\n",
    "\n",
    "There's some noise in this data: we can smooth it out a bit by using a 5-year rolling mean:"
   ]
  },
  {
   "cell_type": "code",
   "execution_count": null,
   "metadata": {
    "collapsed": false
   },
   "outputs": [],
   "source": [
    "births.rolling(window=5, center=False).mean().plot(title=\"Allisons: 5-year moving average\");"
   ]
  },
  {
   "cell_type": "markdown",
   "metadata": {},
   "source": [
    "This gives a smoother picture of the transition, and is an example of the bias/variance tradeoff that we'll often see in modeling: a smoother model has less variance (variation due to sampling or other noise) but at the expense of more bias (the model systematically mis-represents the data slightly).\n",
    "\n",
    "We'll discuss this type of tradeoff more in coming sessions."
   ]
  },
  {
   "cell_type": "code",
   "execution_count": null,
   "metadata": {
    "collapsed": true
   },
   "outputs": [],
   "source": []
  }
 ],
 "metadata": {
  "anaconda-cloud": {},
  "kernelspec": {
   "display_name": "Python 3",
   "language": "python",
   "name": "python3"
  },
  "language_info": {
   "codemirror_mode": {
    "name": "ipython",
    "version": 3
   },
   "file_extension": ".py",
   "mimetype": "text/x-python",
   "name": "python",
   "nbconvert_exporter": "python",
   "pygments_lexer": "ipython3",
   "version": "3.5.2"
  }
 },
 "nbformat": 4,
 "nbformat_minor": 0
}
